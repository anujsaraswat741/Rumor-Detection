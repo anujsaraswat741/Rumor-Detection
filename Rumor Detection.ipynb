{
 "cells": [
  {
   "cell_type": "code",
   "execution_count": 2,
   "metadata": {
    "collapsed": true
   },
   "outputs": [
    {
     "name": "stdout",
     "output_type": "stream",
     "text": [
      "[name: \"/device:CPU:0\"\n",
      "device_type: \"CPU\"\n",
      "memory_limit: 268435456\n",
      "locality {\n",
      "}\n",
      "incarnation: 414113133806188969\n",
      ", name: \"/device:GPU:0\"\n",
      "device_type: \"GPU\"\n",
      "memory_limit: 1426918195\n",
      "locality {\n",
      "  bus_id: 1\n",
      "  links {\n",
      "  }\n",
      "}\n",
      "incarnation: 8067861365658666228\n",
      "physical_device_desc: \"device: 0, name: GeForce MX150, pci bus id: 0000:01:00.0, compute capability: 6.1\"\n",
      "]\n"
     ]
    }
   ],
   "source": [
    "from tensorflow.python.client import device_lib\n",
    "print(device_lib.list_local_devices())"
   ]
  },
  {
   "cell_type": "code",
   "execution_count": 1,
   "metadata": {},
   "outputs": [],
   "source": [
    "import pandas as pd\n",
    "import os\n",
    "from nltk.corpus import stopwords\n",
    "import re\n",
    "from nltk.stem import WordNetLemmatizer\n"
   ]
  },
  {
   "cell_type": "code",
   "execution_count": 2,
   "metadata": {},
   "outputs": [],
   "source": [
    "base_dir = 'd:\\\\MyProject\\\\Rumor_Detection'"
   ]
  },
  {
   "cell_type": "code",
   "execution_count": 3,
   "metadata": {},
   "outputs": [
    {
     "data": {
      "text/plain": [
       "['.idea',\n",
       " 'pre_process.py',\n",
       " 'run_model.py',\n",
       " 'tweets_file.csv',\n",
       " 'tweets_file_new.xlsx']"
      ]
     },
     "execution_count": 3,
     "metadata": {},
     "output_type": "execute_result"
    }
   ],
   "source": [
    "os.listdir(base_dir)"
   ]
  },
  {
   "cell_type": "code",
   "execution_count": 4,
   "metadata": {},
   "outputs": [
    {
     "data": {
      "text/html": [
       "<div>\n",
       "<style scoped>\n",
       "    .dataframe tbody tr th:only-of-type {\n",
       "        vertical-align: middle;\n",
       "    }\n",
       "\n",
       "    .dataframe tbody tr th {\n",
       "        vertical-align: top;\n",
       "    }\n",
       "\n",
       "    .dataframe thead th {\n",
       "        text-align: right;\n",
       "    }\n",
       "</style>\n",
       "<table border=\"1\" class=\"dataframe\">\n",
       "  <thead>\n",
       "    <tr style=\"text-align: right;\">\n",
       "      <th></th>\n",
       "      <th>tweet</th>\n",
       "      <th>label</th>\n",
       "    </tr>\n",
       "  </thead>\n",
       "  <tbody>\n",
       "    <tr>\n",
       "      <td>0</td>\n",
       "      <td>Charlie Hebdoâ€™s Last Tweet Before Shootings ...</td>\n",
       "      <td>0</td>\n",
       "    </tr>\n",
       "    <tr>\n",
       "      <td>1</td>\n",
       "      <td>Prediction: the #CharlieHebdo massacre will no...</td>\n",
       "      <td>0</td>\n",
       "    </tr>\n",
       "    <tr>\n",
       "      <td>2</td>\n",
       "      <td>10:28am Charlie Hebdo account mocks ISIS leade...</td>\n",
       "      <td>0</td>\n",
       "    </tr>\n",
       "    <tr>\n",
       "      <td>3</td>\n",
       "      <td>If your faith isn't strong enough to cope with...</td>\n",
       "      <td>0</td>\n",
       "    </tr>\n",
       "    <tr>\n",
       "      <td>4</td>\n",
       "      <td>Just arrived at scene of massacre #Paris #char...</td>\n",
       "      <td>0</td>\n",
       "    </tr>\n",
       "    <tr>\n",
       "      <td>...</td>\n",
       "      <td>...</td>\n",
       "      <td>...</td>\n",
       "    </tr>\n",
       "    <tr>\n",
       "      <td>101840</td>\n",
       "      <td>â€œ@PoliceAU: Sadly, at this stage, there are ...</td>\n",
       "      <td>1</td>\n",
       "    </tr>\n",
       "    <tr>\n",
       "      <td>101841</td>\n",
       "      <td>â€œ@PoliceAU: Sadly, at this stage, there are ...</td>\n",
       "      <td>1</td>\n",
       "    </tr>\n",
       "    <tr>\n",
       "      <td>101842</td>\n",
       "      <td>@PoliceAU no :'(</td>\n",
       "      <td>1</td>\n",
       "    </tr>\n",
       "    <tr>\n",
       "      <td>101843</td>\n",
       "      <td>@PoliceAU nonono</td>\n",
       "      <td>1</td>\n",
       "    </tr>\n",
       "    <tr>\n",
       "      <td>101844</td>\n",
       "      <td>@purityzouis @PoliceAU oh Yeh :/ everyone is s...</td>\n",
       "      <td>1</td>\n",
       "    </tr>\n",
       "  </tbody>\n",
       "</table>\n",
       "<p>101845 rows × 2 columns</p>\n",
       "</div>"
      ],
      "text/plain": [
       "                                                    tweet  label\n",
       "0       Charlie Hebdoâ€™s Last Tweet Before Shootings ...      0\n",
       "1       Prediction: the #CharlieHebdo massacre will no...      0\n",
       "2       10:28am Charlie Hebdo account mocks ISIS leade...      0\n",
       "3       If your faith isn't strong enough to cope with...      0\n",
       "4       Just arrived at scene of massacre #Paris #char...      0\n",
       "...                                                   ...    ...\n",
       "101840  â€œ@PoliceAU: Sadly, at this stage, there are ...      1\n",
       "101841  â€œ@PoliceAU: Sadly, at this stage, there are ...      1\n",
       "101842                                   @PoliceAU no :'(      1\n",
       "101843                                   @PoliceAU nonono      1\n",
       "101844  @purityzouis @PoliceAU oh Yeh :/ everyone is s...      1\n",
       "\n",
       "[101845 rows x 2 columns]"
      ]
     },
     "execution_count": 4,
     "metadata": {},
     "output_type": "execute_result"
    }
   ],
   "source": [
    "df = pd.read_excel('D:\\\\MyProject\\\\Rumor_Detection\\\\tweets_file_new.xlsx', encoding = 'utf-8')\n",
    "df.columns = ['tweet', 'label']\n",
    "df"
   ]
  },
  {
   "cell_type": "code",
   "execution_count": 5,
   "metadata": {},
   "outputs": [],
   "source": [
    "\n",
    "#Balanced Dataset\n",
    "\n",
    "dfb_r = df[df['label'] == 1]     #rumors\n",
    "dfb_nr = df[df['label'] == 0]    #Non-Rumors\n",
    "\n",
    "dfb_nr = dfb_nr.sample(n=30965)  #sampling equal amount of Non-Rumors\n",
    "\n",
    "dfb = dfb_r.append(dfb_nr)        #concatenating Rumors and Non-Rumors\n",
    "dfb= dfb.sample(frac=1).reset_index(drop=True)   #Shuffling the dataset"
   ]
  },
  {
   "cell_type": "code",
   "execution_count": 6,
   "metadata": {},
   "outputs": [
    {
     "data": {
      "text/html": [
       "<div>\n",
       "<style scoped>\n",
       "    .dataframe tbody tr th:only-of-type {\n",
       "        vertical-align: middle;\n",
       "    }\n",
       "\n",
       "    .dataframe tbody tr th {\n",
       "        vertical-align: top;\n",
       "    }\n",
       "\n",
       "    .dataframe thead th {\n",
       "        text-align: right;\n",
       "    }\n",
       "</style>\n",
       "<table border=\"1\" class=\"dataframe\">\n",
       "  <thead>\n",
       "    <tr style=\"text-align: right;\">\n",
       "      <th></th>\n",
       "      <th>tweet</th>\n",
       "      <th>label</th>\n",
       "    </tr>\n",
       "  </thead>\n",
       "  <tbody>\n",
       "    <tr>\n",
       "      <td>0</td>\n",
       "      <td>I see a lot of religious whiteness over here. ...</td>\n",
       "      <td>0</td>\n",
       "    </tr>\n",
       "    <tr>\n",
       "      <td>1</td>\n",
       "      <td>@democracynow no self-respecting police state ...</td>\n",
       "      <td>0</td>\n",
       "    </tr>\n",
       "    <tr>\n",
       "      <td>2</td>\n",
       "      <td>@Phil_N_C that's my point - you invaded anothe...</td>\n",
       "      <td>0</td>\n",
       "    </tr>\n",
       "    <tr>\n",
       "      <td>3</td>\n",
       "      <td>.@MIFheili1960 Bad for Islam: all these prison...</td>\n",
       "      <td>1</td>\n",
       "    </tr>\n",
       "    <tr>\n",
       "      <td>4</td>\n",
       "      <td>@jaggy123 @MsRock4Ever @AlwaysThinkHow @DanteB...</td>\n",
       "      <td>1</td>\n",
       "    </tr>\n",
       "    <tr>\n",
       "      <td>...</td>\n",
       "      <td>...</td>\n",
       "      <td>...</td>\n",
       "    </tr>\n",
       "    <tr>\n",
       "      <td>61925</td>\n",
       "      <td>@CBCAlerts The cowardly bastards.If you believ...</td>\n",
       "      <td>1</td>\n",
       "    </tr>\n",
       "    <tr>\n",
       "      <td>61926</td>\n",
       "      <td>.@mollycrabapple Police LOVE using the passive...</td>\n",
       "      <td>0</td>\n",
       "    </tr>\n",
       "    <tr>\n",
       "      <td>61927</td>\n",
       "      <td>@PzFeed â¬…ï¸ al nursa and ISIS âž¡ï¸\\r\\nAnd...</td>\n",
       "      <td>1</td>\n",
       "    </tr>\n",
       "    <tr>\n",
       "      <td>61928</td>\n",
       "      <td>@nytimes For Only $9 You Can Buy 3K Followers ...</td>\n",
       "      <td>1</td>\n",
       "    </tr>\n",
       "    <tr>\n",
       "      <td>61929</td>\n",
       "      <td>@Steerpike1 @PolitiBunny @ShidelerK @skiplacom...</td>\n",
       "      <td>0</td>\n",
       "    </tr>\n",
       "  </tbody>\n",
       "</table>\n",
       "<p>61930 rows × 2 columns</p>\n",
       "</div>"
      ],
      "text/plain": [
       "                                                   tweet  label\n",
       "0      I see a lot of religious whiteness over here. ...      0\n",
       "1      @democracynow no self-respecting police state ...      0\n",
       "2      @Phil_N_C that's my point - you invaded anothe...      0\n",
       "3      .@MIFheili1960 Bad for Islam: all these prison...      1\n",
       "4      @jaggy123 @MsRock4Ever @AlwaysThinkHow @DanteB...      1\n",
       "...                                                  ...    ...\n",
       "61925  @CBCAlerts The cowardly bastards.If you believ...      1\n",
       "61926  .@mollycrabapple Police LOVE using the passive...      0\n",
       "61927  @PzFeed â¬…ï¸ al nursa and ISIS âž¡ï¸\\r\\nAnd...      1\n",
       "61928  @nytimes For Only $9 You Can Buy 3K Followers ...      1\n",
       "61929  @Steerpike1 @PolitiBunny @ShidelerK @skiplacom...      0\n",
       "\n",
       "[61930 rows x 2 columns]"
      ]
     },
     "execution_count": 6,
     "metadata": {},
     "output_type": "execute_result"
    }
   ],
   "source": [
    "dfb"
   ]
  },
  {
   "cell_type": "code",
   "execution_count": 7,
   "metadata": {},
   "outputs": [
    {
     "name": "stdout",
     "output_type": "stream",
     "text": [
      "hello mm daf random thing\n"
     ]
    }
   ],
   "source": [
    "def preprocess(text):\n",
    "    \n",
    "#     PreProcessing \n",
    "#     1. Lower\n",
    "#     2. Removing Speciial Characters\n",
    "#     3. Removing numbers\n",
    "#     4. Removing Mentions\n",
    "#     5. Removing Urls\n",
    "#     6. Removing Stopwords\n",
    "#     7. Removing all non-alphanumeric characters\n",
    "#     8. Lemmatization\n",
    "    \n",
    "    \n",
    "    lemmatizer = WordNetLemmatizer()\n",
    "    text = text.lower()\n",
    "    \n",
    "    emoji_pattern = re.compile(\"[\"\n",
    "            u\"\\U0001F600-\\U0001F64F\"  # emoticons\n",
    "            u\"\\U0001F300-\\U0001F5FF\"  # symbols & pictographs\n",
    "            u\"\\U0001F680-\\U0001F6FF\"  # transport & map symbols\n",
    "            u\"\\U0001F1E0-\\U0001F1FF\"  # flags (iOS)\n",
    "                            \"]+\", flags=re.UNICODE)\n",
    "        \n",
    "    text = emoji_pattern.sub(r'',text)                          #removes emojis and other symbols \n",
    "    text = re.sub('[,.?~!$%&*#/]','',text)                      #special Characters\n",
    "    text = re.sub('[\\d]','',text)                               #removes numbers\n",
    "    words = [word for word in text.split() if '@' not in word]  #removes mentions\n",
    "    words = [word for word in words if 'https:' not in word or 'http:' not in word]  #removes urls\n",
    "    words = [word for word in words if word not in stopwords.words('english')]       #removes stopwords\n",
    "    words = [word for word in words if  not re.search('\\W+',word)]                   #removes non-alphanumerics chars\n",
    "    words = [lemmatizer.lemmatize(word) for word in words ]                          #Lemmatization\n",
    "    text = ' '.join(words)\n",
    "    \n",
    "    return text\n",
    "    \n",
    "text = \"hello this i$ some# @sting /// â€˜banksyâ€™  \\U0001F600   with some .,m.m *& daf8 random things in it.\"\n",
    "print(preprocess(text))"
   ]
  },
  {
   "cell_type": "code",
   "execution_count": 10,
   "metadata": {
    "scrolled": true
   },
   "outputs": [],
   "source": [
    "## Unbalanced Dataset\n",
    "#df_new['tweet'].apply(preprocess)\n",
    "\n",
    "#Preprocessing Balanced Dataset\n",
    "dfb['tweet'] = dfb['tweet'].apply(preprocess)"
   ]
  },
  {
   "cell_type": "code",
   "execution_count": 11,
   "metadata": {},
   "outputs": [
    {
     "data": {
      "text/html": [
       "<div>\n",
       "<style scoped>\n",
       "    .dataframe tbody tr th:only-of-type {\n",
       "        vertical-align: middle;\n",
       "    }\n",
       "\n",
       "    .dataframe tbody tr th {\n",
       "        vertical-align: top;\n",
       "    }\n",
       "\n",
       "    .dataframe thead th {\n",
       "        text-align: right;\n",
       "    }\n",
       "</style>\n",
       "<table border=\"1\" class=\"dataframe\">\n",
       "  <thead>\n",
       "    <tr style=\"text-align: right;\">\n",
       "      <th></th>\n",
       "      <th>tweet</th>\n",
       "      <th>label</th>\n",
       "    </tr>\n",
       "  </thead>\n",
       "  <tbody>\n",
       "    <tr>\n",
       "      <th>0</th>\n",
       "      <td>hear hear paul</td>\n",
       "      <td>0</td>\n",
       "    </tr>\n",
       "    <tr>\n",
       "      <th>1</th>\n",
       "      <td>french charliehebdo twitter photo go viral par...</td>\n",
       "      <td>0</td>\n",
       "    </tr>\n",
       "    <tr>\n",
       "      <th>2</th>\n",
       "      <td>important</td>\n",
       "      <td>1</td>\n",
       "    </tr>\n",
       "    <tr>\n",
       "      <th>3</th>\n",
       "      <td>sydneysiege report incident sydney opera house</td>\n",
       "      <td>1</td>\n",
       "    </tr>\n",
       "    <tr>\n",
       "      <th>4</th>\n",
       "      <td>shocker ferguson police beat man charged bleeding</td>\n",
       "      <td>1</td>\n",
       "    </tr>\n",
       "    <tr>\n",
       "      <th>...</th>\n",
       "      <td>...</td>\n",
       "      <td>...</td>\n",
       "    </tr>\n",
       "    <tr>\n",
       "      <th>61925</th>\n",
       "      <td>speaking</td>\n",
       "      <td>1</td>\n",
       "    </tr>\n",
       "    <tr>\n",
       "      <th>61926</th>\n",
       "      <td></td>\n",
       "      <td>1</td>\n",
       "    </tr>\n",
       "    <tr>\n",
       "      <th>61927</th>\n",
       "      <td>reliance traveller jihad mean war agnst</td>\n",
       "      <td>0</td>\n",
       "    </tr>\n",
       "    <tr>\n",
       "      <th>61928</th>\n",
       "      <td>try reading comprehension</td>\n",
       "      <td>1</td>\n",
       "    </tr>\n",
       "    <tr>\n",
       "      <th>61929</th>\n",
       "      <td>think would different usuk</td>\n",
       "      <td>0</td>\n",
       "    </tr>\n",
       "  </tbody>\n",
       "</table>\n",
       "<p>61930 rows × 2 columns</p>\n",
       "</div>"
      ],
      "text/plain": [
       "                                                   tweet  label\n",
       "0                                         hear hear paul      0\n",
       "1      french charliehebdo twitter photo go viral par...      0\n",
       "2                                              important      1\n",
       "3         sydneysiege report incident sydney opera house      1\n",
       "4      shocker ferguson police beat man charged bleeding      1\n",
       "...                                                  ...    ...\n",
       "61925                                           speaking      1\n",
       "61926                                                         1\n",
       "61927            reliance traveller jihad mean war agnst      0\n",
       "61928                          try reading comprehension      1\n",
       "61929                         think would different usuk      0\n",
       "\n",
       "[61930 rows x 2 columns]"
      ]
     },
     "execution_count": 11,
     "metadata": {},
     "output_type": "execute_result"
    }
   ],
   "source": [
    "dfb.columns = ['tweet', 'label']\n",
    "dfb"
   ]
  },
  {
   "cell_type": "code",
   "execution_count": 12,
   "metadata": {},
   "outputs": [],
   "source": [
    "from sklearn.model_selection import train_test_split\n",
    "\n",
    "# x = df_new['tweet']\n",
    "# y = df_new['label']\n",
    "\n",
    "x = dfb['tweet']\n",
    "y = dfb['label']\n",
    "\n",
    "x_train, x_test, y_train, y_test = train_test_split(x,y, test_size = 0.20, random_state = 42)"
   ]
  },
  {
   "cell_type": "code",
   "execution_count": 14,
   "metadata": {
    "scrolled": true
   },
   "outputs": [
    {
     "data": {
      "text/plain": [
       "44088            know usans seen guy made speech priceless\n",
       "53317        acting like wild animal cop trying intimidate\n",
       "43724    look like missed last time already shot maybe ...\n",
       "16758                             probably nonsense though\n",
       "29772                        relevant r u stupid something\n",
       "                               ...                        \n",
       "54343    revoke terrorist passport sincerely valerie ja...\n",
       "38158    several hostage freed tottenham club shop wow ...\n",
       "860      see lot apoligists well islamism smth alien mu...\n",
       "15795    waiting shoe drop b psychicdetective wakeupame...\n",
       "56422                                   wow prayer soldier\n",
       "Name: tweet, Length: 49544, dtype: object"
      ]
     },
     "execution_count": 14,
     "metadata": {},
     "output_type": "execute_result"
    }
   ],
   "source": [
    "x_train"
   ]
  },
  {
   "cell_type": "code",
   "execution_count": 15,
   "metadata": {},
   "outputs": [
    {
     "name": "stdout",
     "output_type": "stream",
     "text": [
      "Found 1193514 word vectors.\n"
     ]
    }
   ],
   "source": [
    "import numpy as np\n",
    "import json\n",
    "import tensorflow as tf\n",
    "\n",
    "from tensorflow.keras.preprocessing.text import Tokenizer\n",
    "from tensorflow.keras.preprocessing.sequence import pad_sequences\n",
    "\n",
    "\n",
    "\n",
    "vocab_size = 1000\n",
    "embedding_dim = 50\n",
    "max_length = 120\n",
    "trunc_type='post'\n",
    "padding_type='post'\n",
    "oov_tok = \"<OOV>\"\n",
    "training_size = 20000\n",
    "GLOVE_DIR = \"D:\\\\MyProject\\\\glove.twitter.27B\"\n",
    "\n",
    "tokenizer = Tokenizer(num_words=vocab_size, oov_token=oov_tok)\n",
    "tokenizer.fit_on_texts(x_train)\n",
    "\n",
    "word_index = tokenizer.word_index\n",
    "\n",
    "training_sequences = tokenizer.texts_to_sequences(x_train)\n",
    "training_padded = pad_sequences(training_sequences, maxlen=max_length, padding=padding_type, truncating=trunc_type)\n",
    "\n",
    "testing_sequences = tokenizer.texts_to_sequences(x_test)\n",
    "testing_padded = pad_sequences(testing_sequences, maxlen=max_length, padding=padding_type, truncating=trunc_type)\n",
    "\n",
    "\n",
    "\n",
    "\n",
    "\n",
    "\n",
    "#Unpacking Glove Embedding\n",
    "embeddings_index = {}\n",
    "f = open(os.path.join(GLOVE_DIR, 'glove.twitter.27B.50d.txt'), encoding = 'utf-8')\n",
    "for line in f:\n",
    "    values = line.split()\n",
    "    word = values[0]\n",
    "    coefs = np.asarray(values[1:], dtype='float32')\n",
    "    embeddings_index[word] = coefs\n",
    "f.close()\n",
    "print('Found %s word vectors.' % len(embeddings_index))\n",
    "\n",
    "#Creating Glove Embedding Matrix\n",
    "embedding_matrix = np.zeros((len(word_index) + 1, embedding_dim))\n",
    "for word, i in word_index.items():\n",
    "    embedding_vector = embeddings_index.get(word)\n",
    "    if embedding_vector is not None:\n",
    "        # words not found in embedding index will be all-zeros.\n",
    "        embedding_matrix[i] = embedding_vector"
   ]
  },
  {
   "cell_type": "code",
   "execution_count": 13,
   "metadata": {
    "colab": {
     "base_uri": "https://localhost:8080/",
     "height": 877
    },
    "colab_type": "code",
    "id": "jGwXGIXvFhXW",
    "outputId": "518109d4-e789-4ea8-9a15-3401748c87ec",
    "scrolled": false
   },
   "outputs": [
    {
     "ename": "NameError",
     "evalue": "name 'tf' is not defined",
     "output_type": "error",
     "traceback": [
      "\u001b[1;31m---------------------------------------------------------------------------\u001b[0m",
      "\u001b[1;31mNameError\u001b[0m                                 Traceback (most recent call last)",
      "\u001b[1;32m<ipython-input-13-d77e7c267c80>\u001b[0m in \u001b[0;36m<module>\u001b[1;34m\u001b[0m\n\u001b[0;32m      1\u001b[0m \u001b[1;31m#model 1: Embeddings\u001b[0m\u001b[1;33m\u001b[0m\u001b[1;33m\u001b[0m\u001b[1;33m\u001b[0m\u001b[0m\n\u001b[1;32m----> 2\u001b[1;33m model = tf.keras.Sequential([\n\u001b[0m\u001b[0;32m      3\u001b[0m     \u001b[0mtf\u001b[0m\u001b[1;33m.\u001b[0m\u001b[0mkeras\u001b[0m\u001b[1;33m.\u001b[0m\u001b[0mlayers\u001b[0m\u001b[1;33m.\u001b[0m\u001b[0mEmbedding\u001b[0m\u001b[1;33m(\u001b[0m\u001b[0mlen\u001b[0m\u001b[1;33m(\u001b[0m\u001b[0mword_index\u001b[0m\u001b[1;33m)\u001b[0m \u001b[1;33m+\u001b[0m \u001b[1;36m1\u001b[0m\u001b[1;33m,\u001b[0m \u001b[0membedding_dim\u001b[0m\u001b[1;33m,\u001b[0m \u001b[0mweights\u001b[0m\u001b[1;33m=\u001b[0m\u001b[1;33m[\u001b[0m\u001b[0membedding_matrix\u001b[0m\u001b[1;33m]\u001b[0m\u001b[1;33m,\u001b[0m \u001b[0minput_length\u001b[0m\u001b[1;33m=\u001b[0m\u001b[0mmax_length\u001b[0m\u001b[1;33m,\u001b[0m \u001b[0mtrainable\u001b[0m \u001b[1;33m=\u001b[0m \u001b[1;32mFalse\u001b[0m\u001b[1;33m)\u001b[0m\u001b[1;33m,\u001b[0m\u001b[1;33m\u001b[0m\u001b[1;33m\u001b[0m\u001b[0m\n\u001b[0;32m      4\u001b[0m     \u001b[0mtf\u001b[0m\u001b[1;33m.\u001b[0m\u001b[0mkeras\u001b[0m\u001b[1;33m.\u001b[0m\u001b[0mlayers\u001b[0m\u001b[1;33m.\u001b[0m\u001b[0mBidirectional\u001b[0m\u001b[1;33m(\u001b[0m\u001b[0mtf\u001b[0m\u001b[1;33m.\u001b[0m\u001b[0mkeras\u001b[0m\u001b[1;33m.\u001b[0m\u001b[0mlayers\u001b[0m\u001b[1;33m.\u001b[0m\u001b[0mLSTM\u001b[0m\u001b[1;33m(\u001b[0m\u001b[1;36m32\u001b[0m\u001b[1;33m,\u001b[0m \u001b[0mreturn_sequences\u001b[0m \u001b[1;33m=\u001b[0m \u001b[1;32mTrue\u001b[0m\u001b[1;33m)\u001b[0m\u001b[1;33m)\u001b[0m\u001b[1;33m,\u001b[0m\u001b[1;33m\u001b[0m\u001b[1;33m\u001b[0m\u001b[0m\n\u001b[0;32m      5\u001b[0m     \u001b[0mtf\u001b[0m\u001b[1;33m.\u001b[0m\u001b[0mkeras\u001b[0m\u001b[1;33m.\u001b[0m\u001b[0mlayers\u001b[0m\u001b[1;33m.\u001b[0m\u001b[0mBidirectional\u001b[0m\u001b[1;33m(\u001b[0m\u001b[0mtf\u001b[0m\u001b[1;33m.\u001b[0m\u001b[0mkeras\u001b[0m\u001b[1;33m.\u001b[0m\u001b[0mlayers\u001b[0m\u001b[1;33m.\u001b[0m\u001b[0mLSTM\u001b[0m\u001b[1;33m(\u001b[0m\u001b[1;36m64\u001b[0m\u001b[1;33m)\u001b[0m\u001b[1;33m)\u001b[0m\u001b[1;33m,\u001b[0m\u001b[1;33m\u001b[0m\u001b[1;33m\u001b[0m\u001b[0m\n",
      "\u001b[1;31mNameError\u001b[0m: name 'tf' is not defined"
     ]
    }
   ],
   "source": [
    "#model 1: Embeddings\n",
    "model = tf.keras.Sequential([\n",
    "    tf.keras.layers.Embedding(len(word_index) + 1, embedding_dim, weights=[embedding_matrix], input_length=max_length, trainable = False),\n",
    "    tf.keras.layers.Bidirectional(tf.keras.layers.LSTM(32, return_sequences = True)),\n",
    "    tf.keras.layers.Bidirectional(tf.keras.layers.LSTM(64)),\n",
    "    tf.keras.layers.Dense(128, activation='relu'),\n",
    "    tf.keras.layers.Dense(1, activation='sigmoid') ])\n",
    "model.compile(loss='binary_crossentropy',optimizer='adam',metrics=['accuracy'])\n",
    "model.summary()\n",
    "\n",
    "\n",
    "#model 2: Embeddings with Conv1D and maxpooling1D\n",
    "# model = tf.keras.Sequential([\n",
    "#     tf.keras.layers.Embedding(len(word_index) + 1, embedding_dim, weights=[embedding_matrix], input_length=max_length, trainable = False),\n",
    "#     tf.keras.layers.Conv1D(64,4,activation = 'relu'),\n",
    "#     tf.keras.layers.Dropout(0.3),\n",
    "#     tf.keras.layers.MaxPooling1D(2),\n",
    "#     tf.keras.layers.Bidirectional(tf.keras.layers.LSTM(32, return_sequences = True)),\n",
    "#     tf.keras.layers.Bidirectional(tf.keras.layers.LSTM(64)),\n",
    "#     tf.keras.layers.Dense(128, activation='relu'),\n",
    "#     tf.keras.layers.Dense(1, activation='sigmoid') ])\n",
    "# model.compile(loss='binary_crossentropy',optimizer='adam',metrics=['accuracy'])\n",
    "# model.summary()\n",
    "\n",
    "\n",
    "\n",
    "\n",
    "\n",
    "\n",
    "\n",
    "num_epochs = 20\n",
    "history = model.fit(training_padded, y_train, epochs=num_epochs, validation_data=(testing_padded, y_test),batch_size = 1024, verbose=1)\n",
    "\n"
   ]
  },
  {
   "cell_type": "code",
   "execution_count": 31,
   "metadata": {},
   "outputs": [],
   "source": [
    "y_train_prediction = model.predict(training_padded)\n",
    "y_test_prediction =    model.predict(testing_padded)\n",
    "y_train_prediction[y_train_prediction >= 0.5] = 1\n",
    "y_train_prediction[y_train_prediction <  0.5] = 0\n",
    "y_test_prediction[y_test_prediction >= 0.5] = 1\n",
    "y_test_prediction[y_test_prediction <  0.5] = 0"
   ]
  },
  {
   "cell_type": "code",
   "execution_count": 32,
   "metadata": {},
   "outputs": [
    {
     "name": "stdout",
     "output_type": "stream",
     "text": [
      "Accuracy (training data)\n",
      " 0.6840384304860326\n",
      "Accuracy (test data)\n",
      " 0.6227999354109478\n",
      "Confusion matrix (training data)\n",
      "               precision    recall  f1-score   support\n",
      "\n",
      "           0       0.67      0.74      0.70     24799\n",
      "           1       0.70      0.63      0.67     24745\n",
      "\n",
      "    accuracy                           0.68     49544\n",
      "   macro avg       0.69      0.68      0.68     49544\n",
      "weighted avg       0.69      0.68      0.68     49544\n",
      "\n",
      "Confusion matrix (test data)\n",
      "               precision    recall  f1-score   support\n",
      "\n",
      "           0       0.61      0.67      0.64      6166\n",
      "           1       0.64      0.57      0.60      6220\n",
      "\n",
      "    accuracy                           0.62     12386\n",
      "   macro avg       0.62      0.62      0.62     12386\n",
      "weighted avg       0.62      0.62      0.62     12386\n",
      "\n"
     ]
    }
   ],
   "source": [
    "from sklearn.metrics import confusion_matrix,accuracy_score,classification_report\n",
    "from sklearn import metrics\n",
    "import numpy as np\n",
    "\n",
    "print(\"Accuracy (training data)\\n\", metrics.accuracy_score(y_train, y_train_prediction))\n",
    "print(\"Accuracy (test data)\\n\", metrics.accuracy_score(y_test, y_test_prediction))\n",
    "\n",
    "print(\"Confusion matrix (training data)\\n\", metrics.classification_report(y_train, y_train_prediction))\n",
    "print(\"Confusion matrix (test data)\\n\", metrics.classification_report(y_test, y_test_prediction))\n"
   ]
  },
  {
   "cell_type": "code",
   "execution_count": 27,
   "metadata": {
    "colab": {},
    "colab_type": "code",
    "id": "g9DC6dmLF8DC"
   },
   "outputs": [
    {
     "data": {
      "image/png": "[encoded data removed]",
      "text/plain": [
       "<Figure size 432x288 with 1 Axes>"
      ]
     },
     "metadata": {
      "needs_background": "light"
     },
     "output_type": "display_data"
    },
    {
     "data": {
      "image/png": "[encoded data removed]",
      "text/plain": [
       "<Figure size 432x288 with 1 Axes>"
      ]
     },
     "metadata": {
      "needs_background": "light"
     },
     "output_type": "display_data"
    }
   ],
   "source": [
    "\n",
    "import matplotlib.pyplot as plt\n",
    "\n",
    "\n",
    "def plot_graphs(history, string):\n",
    "  plt.plot(history.history[string])\n",
    "  plt.plot(history.history['val_'+string])\n",
    "  plt.xlabel(\"Epochs\")\n",
    "  plt.ylabel(string)\n",
    "  plt.legend([string, 'val_'+string])\n",
    "  plt.show()\n",
    "\n",
    "plot_graphs(history, 'acc')\n",
    "plot_graphs(history, 'loss')"
   ]
  },
  {
   "cell_type": "code",
   "execution_count": 21,
   "metadata": {
    "colab": {},
    "colab_type": "code",
    "id": "7ZEZIUppGhdi"
   },
   "outputs": [],
   "source": [
    "model.save(\"rumor_detection_word_embeddin_20iterations.h5\")"
   ]
  },
  {
   "cell_type": "code",
   "execution_count": null,
   "metadata": {},
   "outputs": [],
   "source": [
    "from tensorflow.python.client import device_lib\n",
    "print(device_lib.list_local_devices())"
   ]
  },
  {
   "cell_type": "code",
   "execution_count": null,
   "metadata": {},
   "outputs": [],
   "source": []
  }
 ],
 "metadata": {
  "accelerator": "GPU",
  "colab": {
   "collapsed_sections": [],
   "name": "Course 3 - Week 3 - Lesson 2.ipynb",
   "provenance": [],
   "version": "0.3.2"
  },
  "kernelspec": {
   "display_name": "Python 3",
   "language": "python",
   "name": "python3"
  },
  "language_info": {
   "codemirror_mode": {
    "name": "ipython",
    "version": 3
   },
   "file_extension": ".py",
   "mimetype": "text/x-python",
   "name": "python",
   "nbconvert_exporter": "python",
   "pygments_lexer": "ipython3",
   "version": "3.7.4"
  }
 },
 "nbformat": 4,
 "nbformat_minor": 1
}
